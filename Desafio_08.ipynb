{
 "cells": [
  {
   "cell_type": "markdown",
   "metadata": {
    "colab_type": "text",
    "id": "view-in-github"
   },
   "source": [
    "<a href=\"https://colab.research.google.com/github/WittmannF/br-data-science/blob/master/python/challenges/Desafio_8.ipynb\" target=\"_parent\"><img src=\"https://colab.research.google.com/assets/colab-badge.svg\" alt=\"Open In Colab\"/></a>"
   ]
  },
  {
   "cell_type": "markdown",
   "metadata": {
    "colab_type": "text",
    "id": "o3tkeMDNf6Jo"
   },
   "source": [
    "### Desafio 8\n",
    "\n",
    "Escreva um script Python para encontrar as 10 palavras mais longas em um arquivo.\n",
    "\n",
    "O arquivo TXT está localizado na mesma pasta do projeto (texto.txt)."
   ]
  },
  {
   "cell_type": "code",
   "execution_count": 8,
   "metadata": {
    "colab": {},
    "colab_type": "code",
    "id": "EknxjSG0f6Jo"
   },
   "outputs": [],
   "source": [
    "# Seu código\n",
    "# !wget https://raw.githubusercontent.com/awarischool/br-python-challenges/master/texto.txt"
   ]
  },
  {
   "cell_type": "code",
   "execution_count": 3,
   "metadata": {},
   "outputs": [],
   "source": [
    "with open('texto.txt', 'r') as txt:\n",
    "    texto = txt.read().replace('.', ' ').replace('?', ' ').replace(',', ' ').split()"
   ]
  },
  {
   "cell_type": "code",
   "execution_count": 4,
   "metadata": {},
   "outputs": [
    {
     "data": {
      "text/plain": [
       "['What',\n",
       " 'is',\n",
       " 'Python',\n",
       " 'language',\n",
       " 'Python',\n",
       " 'is',\n",
       " 'a',\n",
       " 'widely',\n",
       " 'used',\n",
       " 'high-level',\n",
       " 'general-purpose',\n",
       " 'interpreted',\n",
       " 'dynamic',\n",
       " 'programming',\n",
       " 'language',\n",
       " 'Its',\n",
       " 'design',\n",
       " 'philosophy',\n",
       " 'emphasizes',\n",
       " 'code',\n",
       " 'readability',\n",
       " 'and',\n",
       " 'its',\n",
       " 'syntax',\n",
       " 'allows',\n",
       " 'programmers',\n",
       " 'to',\n",
       " 'express',\n",
       " 'concepts',\n",
       " 'in',\n",
       " 'fewer',\n",
       " 'lines',\n",
       " 'of',\n",
       " 'code',\n",
       " 'than',\n",
       " 'possible',\n",
       " 'in',\n",
       " 'languages',\n",
       " 'such',\n",
       " 'as',\n",
       " 'C++',\n",
       " 'or',\n",
       " 'Java',\n",
       " 'Python',\n",
       " 'supports',\n",
       " 'multiple',\n",
       " 'programming',\n",
       " 'paradigms',\n",
       " 'including',\n",
       " 'object-oriented',\n",
       " 'imperative',\n",
       " 'and',\n",
       " 'functional',\n",
       " 'programming',\n",
       " 'or',\n",
       " 'procedural',\n",
       " 'styles',\n",
       " 'It',\n",
       " 'features',\n",
       " 'a',\n",
       " 'dynamic',\n",
       " 'type',\n",
       " 'system',\n",
       " 'and',\n",
       " 'automatic',\n",
       " 'memory',\n",
       " 'management',\n",
       " 'and',\n",
       " 'has',\n",
       " 'a',\n",
       " 'large',\n",
       " 'and',\n",
       " 'comprehensive',\n",
       " 'standard',\n",
       " 'library',\n",
       " 'The',\n",
       " 'best',\n",
       " 'way',\n",
       " 'we',\n",
       " 'learn',\n",
       " 'anything',\n",
       " 'is',\n",
       " 'by',\n",
       " 'practice',\n",
       " 'and',\n",
       " 'exercise',\n",
       " 'questions',\n",
       " 'We',\n",
       " 'have',\n",
       " 'started',\n",
       " 'this',\n",
       " 'section',\n",
       " 'for',\n",
       " 'those',\n",
       " '(beginner',\n",
       " 'to',\n",
       " 'intermediate)',\n",
       " 'who',\n",
       " 'are',\n",
       " 'familiar',\n",
       " 'with',\n",
       " 'Python']"
      ]
     },
     "execution_count": 4,
     "metadata": {},
     "output_type": "execute_result"
    }
   ],
   "source": [
    "texto"
   ]
  },
  {
   "cell_type": "code",
   "execution_count": 7,
   "metadata": {},
   "outputs": [
    {
     "data": {
      "text/plain": [
       "['general-purpose',\n",
       " 'object-oriented',\n",
       " 'comprehensive',\n",
       " 'intermediate)',\n",
       " 'interpreted',\n",
       " 'programming',\n",
       " 'readability',\n",
       " 'programmers',\n",
       " 'programming',\n",
       " 'programming']"
      ]
     },
     "execution_count": 7,
     "metadata": {},
     "output_type": "execute_result"
    }
   ],
   "source": [
    "lista_ordenada = sorted(texto,key=len,reverse=True)[:10]\n",
    "lista_ordenada"
   ]
  },
  {
   "cell_type": "code",
   "execution_count": null,
   "metadata": {},
   "outputs": [],
   "source": []
  }
 ],
 "metadata": {
  "anaconda-cloud": {},
  "colab": {
   "include_colab_link": true,
   "name": "Desafio 8.ipynb",
   "provenance": []
  },
  "kernelspec": {
   "display_name": "Python 3",
   "language": "python",
   "name": "python3"
  },
  "language_info": {
   "codemirror_mode": {
    "name": "ipython",
    "version": 3
   },
   "file_extension": ".py",
   "mimetype": "text/x-python",
   "name": "python",
   "nbconvert_exporter": "python",
   "pygments_lexer": "ipython3",
   "version": "3.7.4"
  }
 },
 "nbformat": 4,
 "nbformat_minor": 1
}
